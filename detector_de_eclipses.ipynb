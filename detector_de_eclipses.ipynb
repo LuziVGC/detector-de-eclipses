{
  "nbformat": 4,
  "nbformat_minor": 0,
  "metadata": {
    "colab": {
      "provenance": [],
      "include_colab_link": true
    },
    "kernelspec": {
      "name": "python3",
      "display_name": "Python 3"
    },
    "language_info": {
      "name": "python"
    }
  },
  "cells": [
    {
      "cell_type": "markdown",
      "metadata": {
        "id": "view-in-github",
        "colab_type": "text"
      },
      "source": [
        "<a href=\"https://colab.research.google.com/github/LuziVGC/detector-de-eclipses/blob/main/detector_de_eclipses.ipynb\" target=\"_parent\"><img src=\"https://colab.research.google.com/assets/colab-badge.svg\" alt=\"Open In Colab\"/></a>"
      ]
    },
    {
      "cell_type": "code",
      "execution_count": null,
      "metadata": {
        "id": "kswhsseR2a7H"
      },
      "outputs": [],
      "source": [
        "!pip install rebound"
      ]
    },
    {
      "cell_type": "code",
      "source": [
        "#Librerias a utilizar\n",
        "import rebound\n",
        "import matplotlib.pyplot as plt\n",
        "import numpy as np\n",
        "import datetime\n",
        "from datetime import date"
      ],
      "metadata": {
        "id": "AAbw0o7f23MV"
      },
      "execution_count": null,
      "outputs": []
    },
    {
      "cell_type": "code",
      "source": [
        "#Condiciones temporales\n",
        "def convert_to_rebound_date(year, month, day):\n",
        "  return(int(year) + (int(month-1))/12 + (int(day-1))/365.25)\n",
        "\n",
        "fechai = input(\"Bienvenido/a al detector de eclipses solares, escoja una fecha desde la cual quiera detectar en el formato Año-Mes-Día: \" )\n",
        "print(\"\")\n",
        "fechaf = input(\"Y además hasta que fecha quiere simular en el formato Año-Mes-Día: \")\n",
        "\n",
        "principio = fechai.split(\"-\")\n",
        "final = fechaf.split(\"-\")\n",
        "\n",
        "fecha1 = datetime.date(int(principio[0]), int(principio[1]), int(principio[2]))\n",
        "fecha2 = datetime.date(int(final[0]), int(final[1]), int(final[2]))\n",
        "diferencia = fecha2 - fecha1\n",
        "dias = diferencia.days\n",
        "days = int(diferencia.days)\n",
        "\n",
        "hoy = datetime.datetime.now()\n",
        "fechah = [hoy.year, hoy.month, hoy.day]"
      ],
      "metadata": {
        "id": "qDsVBXGc3ldF"
      },
      "execution_count": null,
      "outputs": []
    },
    {
      "cell_type": "code",
      "source": [
        "sim = rebound.Simulation()\n",
        "sim.units = ('Msun', 'AU', 'yr')\n",
        "\n",
        "sim.add(\"Sun\", date = hoy)\n",
        "sim.add(\"399\", date = hoy)\n",
        "sim.add(\"301\", date = hoy)\n",
        "sim.move_to_com()\n",
        "sim.status()"
      ],
      "metadata": {
        "id": "qr2bE5zI3qRe"
      },
      "execution_count": null,
      "outputs": []
    },
    {
      "cell_type": "code",
      "source": [
        "Noutputs = round((10000*days)/365.25)\n",
        "today = convert_to_rebound_date(int(fechah[0]),int(fechah[1]),int(fechah[2]))\n",
        "finish = convert_to_rebound_date(int(final[0]), int(final[1]), int(final[2]))\n",
        "start = convert_to_rebound_date(int(principio[0]), int(principio[1]), int(principio[2]))\n",
        "times = np.linspace((start-today),(finish - today),Noutputs)\n",
        "\n",
        "x = np.zeros((3,Noutputs))\n",
        "y = np.zeros((3,Noutputs))\n",
        "z = np.zeros((3,Noutputs))\n",
        "\n",
        "sol = sim.particles[0]\n",
        "tie = sim.particles[1]\n",
        "lun = sim.particles[2]\n",
        "\n",
        "for i,t in enumerate(times):\n",
        "  sim.integrate(t)\n",
        "  x[0,i] = sol.x\n",
        "  y[0,i] = sol.y\n",
        "  z[0,i] = sol.z\n",
        "  x[1,i] = tie.x\n",
        "  y[1,i] = tie.y\n",
        "  z[1,i] = tie.z\n",
        "  x[2,i] = lun.x\n",
        "  y[2,i] = lun.y\n",
        "  z[2,i] = lun.z\n"
      ],
      "metadata": {
        "id": "ufUKby0J9TDz"
      },
      "execution_count": 86,
      "outputs": []
    },
    {
      "cell_type": "code",
      "source": [
        "def area_of_triangle(v1, v2):\n",
        "    return np.linalg.norm(np.cross(v1, v2))\n",
        "\n",
        "tl = []\n",
        "ts = []\n",
        "sl = []\n",
        "tlx = x[2]-x[1]\n",
        "tly = y[2]-y[1]\n",
        "tlz = z[2]-z[1]\n",
        "tsx = x[1]-x[0]\n",
        "tsy = y[1]-y[0]\n",
        "tsz = z[1]-z[0]\n",
        "slx = x[2]-x[0]\n",
        "sly = y[2]-y[0]\n",
        "slz = z[2]-z[0]\n",
        "tl.append(tlx)\n",
        "tl.append(tly)\n",
        "tl.append(tlz)\n",
        "ts.append(tsx)\n",
        "ts.append(tsy)\n",
        "ts.append(tsz)\n",
        "sl.append(tsx)\n",
        "sl.append(tsy)\n",
        "sl.append(tsz)\n",
        "\n",
        "a = 0\n",
        "eclipses = []\n",
        "areas = []\n",
        "while a < Noutputs:\n",
        "  v1 = np.array([tl[0][a],tl[1][a],tl[2][a]],float)\n",
        "  v2 = np.array([ts[0][a],ts[1][a],ts[2][a]],float)\n",
        "  v3 = np.array([sl[0][a],sl[1][a],sl[2][a]],float)\n",
        "  magnitud = area_of_triangle(v1,v2)\n",
        "  if magnitud < 0.00003:\n",
        "    eclipses.append(times[a])\n",
        "  areas.append(magnitud)\n",
        "  a += 1\n",
        "\n",
        "eclipse_dates = [hoy + datetime.timedelta(days = t*365.25) for t in eclipses]\n",
        "print(\"Fechas de eclipse:\")\n",
        "for date in eclipse_dates:\n",
        "    print(date.strftime(\"%Y-%m-%d\"))"
      ],
      "metadata": {
        "id": "88bYZDj-5fsb"
      },
      "execution_count": null,
      "outputs": []
    },
    {
      "cell_type": "code",
      "source": [
        "plt.plot(times, areas)\n",
        "plt.xlabel('Fecha (años)')\n",
        "plt.ylabel('Área del triángulo (UA$^2$)')\n",
        "plt.title('Variación del área del triángulo formado por el Sol, la Tierra y la Luna')\n",
        "plt.xticks(rotation=45)\n",
        "plt.grid(True)\n",
        "\n",
        "for eclipse_time in eclipses:\n",
        "    plt.axvline(x=eclipse_time, color='r', linestyle='--', linewidth=1)\n",
        "\n",
        "plt.tight_layout()\n",
        "plt.show()"
      ],
      "metadata": {
        "id": "X1rofGosXPBn"
      },
      "execution_count": null,
      "outputs": []
    }
  ]
}